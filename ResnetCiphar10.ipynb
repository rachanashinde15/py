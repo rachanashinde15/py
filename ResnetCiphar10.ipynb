{
  "cells": [
    {
      "cell_type": "markdown",
      "metadata": {
        "id": "view-in-github",
        "colab_type": "text"
      },
      "source": [
        "<a href=\"https://colab.research.google.com/github/rachanashinde15/py/blob/master/ResnetCiphar10.ipynb\" target=\"_parent\"><img src=\"https://colab.research.google.com/assets/colab-badge.svg\" alt=\"Open In Colab\"/></a>"
      ]
    },
    {
      "cell_type": "code",
      "execution_count": 81,
      "metadata": {
        "id": "Is7kO0neIoJd"
      },
      "outputs": [],
      "source": [
        "import tensorflow as tf\n",
        "import tensorflow.keras as keras\n",
        "from tensorflow.keras import datasets, layers, models,Sequential\n",
        "from tensorflow.keras.optimizers import Adam\n",
        "\n",
        "from keras.layers import Input, Add, Dense, Activation, ZeroPadding2D, BatchNormalization, Flatten, Conv2D, AveragePooling2D, MaxPooling2D, GlobalMaxPooling2D,MaxPool2D\n",
        "from tensorflow.keras.models import Model\n",
        "from keras.initializers import glorot_uniform\n",
        "import matplotlib.pyplot as plt\n",
        "import numpy as np"
      ]
    },
    {
      "cell_type": "code",
      "execution_count": 82,
      "metadata": {
        "colab": {
          "base_uri": "https://localhost:8080/"
        },
        "id": "90KFy9H9Ip0t",
        "outputId": "6f9364a0-42ea-4b3d-8b56-46b6989fe482"
      },
      "outputs": [
        {
          "output_type": "stream",
          "name": "stdout",
          "text": [
            "(50000, 32, 32, 3) (50000, 1) (10000, 32, 32, 3) (10000, 1)\n"
          ]
        }
      ],
      "source": [
        "(X_train, y_train), (X_test,y_test) = datasets.cifar10.load_data()\n",
        "print(X_train.shape, y_train.shape, X_test.shape, y_test.shape)"
      ]
    },
    {
      "cell_type": "code",
      "execution_count": 83,
      "metadata": {
        "colab": {
          "base_uri": "https://localhost:8080/"
        },
        "id": "2wzohrFLIr0O",
        "outputId": "af270fea-0854-4a5d-d863-f3af1655404f"
      },
      "outputs": [
        {
          "output_type": "execute_result",
          "data": {
            "text/plain": [
              "(10000, 32, 32, 3)"
            ]
          },
          "metadata": {},
          "execution_count": 83
        }
      ],
      "source": [
        "X_test.shape"
      ]
    },
    {
      "cell_type": "code",
      "execution_count": 84,
      "metadata": {
        "colab": {
          "base_uri": "https://localhost:8080/"
        },
        "id": "GdYMpexqIuzu",
        "outputId": "d58f7470-bb14-46fe-f965-8bc41909fe28"
      },
      "outputs": [
        {
          "output_type": "execute_result",
          "data": {
            "text/plain": [
              "(50000, 1)"
            ]
          },
          "metadata": {},
          "execution_count": 84
        }
      ],
      "source": [
        "y_train.shape\n"
      ]
    },
    {
      "cell_type": "code",
      "execution_count": 85,
      "metadata": {
        "id": "Snomm6MZIzG_"
      },
      "outputs": [],
      "source": [
        "X_train = X_train / 255.0\n",
        "X_test = X_test / 255.0"
      ]
    },
    {
      "cell_type": "code",
      "source": [
        "y_train, y_test = y_train.flatten(), y_test.flatten()"
      ],
      "metadata": {
        "id": "1B3uZQGpdr_0"
      },
      "execution_count": 86,
      "outputs": []
    },
    {
      "cell_type": "code",
      "execution_count": 87,
      "metadata": {
        "colab": {
          "base_uri": "https://localhost:8080/"
        },
        "id": "hhaNPzMGIy4Y",
        "outputId": "9e71ff54-f82c-4da4-f044-113e2daa1ea1"
      },
      "outputs": [
        {
          "output_type": "execute_result",
          "data": {
            "text/plain": [
              "array([6, 9, 9, 4, 1], dtype=uint8)"
            ]
          },
          "metadata": {},
          "execution_count": 87
        }
      ],
      "source": [
        "\n",
        "y_train = y_train.reshape(-1,)\n",
        "y_train[:5]"
      ]
    },
    {
      "cell_type": "code",
      "execution_count": 88,
      "metadata": {
        "colab": {
          "base_uri": "https://localhost:8080/"
        },
        "id": "ionZsgW8KnCZ",
        "outputId": "fa5dee68-4115-43ca-85a1-85d53938ed8c"
      },
      "outputs": [
        {
          "output_type": "execute_result",
          "data": {
            "text/plain": [
              "array([3, 8, 8, 0, 6], dtype=uint8)"
            ]
          },
          "metadata": {},
          "execution_count": 88
        }
      ],
      "source": [
        "y_test = y_test.reshape(-1,)\n",
        "y_test[:5]"
      ]
    },
    {
      "cell_type": "code",
      "execution_count": 89,
      "metadata": {
        "id": "DXL6rxlKIzOa"
      },
      "outputs": [],
      "source": [
        "y_train = keras.utils.to_categorical(y_train, 10)\n",
        "y_test = keras.utils.to_categorical(y_test, 10)"
      ]
    },
    {
      "cell_type": "code",
      "execution_count": 90,
      "metadata": {
        "id": "I3SA8QHAIzR0"
      },
      "outputs": [],
      "source": [
        "def identity_block(X, f, filters):\n",
        "   \n",
        "    \n",
        "    F1, F2, F3 = filters\n",
        "\n",
        "    X_shortcut = X\n",
        "   \n",
        "    X = Conv2D(filters=F1, kernel_size=(1, 1), strides=(1, 1), padding='valid')(X)\n",
        "    X = BatchNormalization(axis=3)(X)\n",
        "    X = Activation('relu')(X)\n",
        "\n",
        "    X = Conv2D(filters=F2, kernel_size=(f, f), strides=(1, 1), padding='same')(X)\n",
        "    X = BatchNormalization(axis=3)(X)\n",
        "    X = Activation('relu')(X)\n",
        "\n",
        "    X = Conv2D(filters=F3, kernel_size=(1, 1), strides=(1, 1), padding='valid')(X)\n",
        "    X = BatchNormalization(axis=3)(X)\n",
        "\n",
        "    X = Add()([X, X_shortcut])# SKIP Connection\n",
        "    X = Activation('relu')(X)\n",
        "\n",
        "    return X"
      ]
    },
    {
      "cell_type": "code",
      "execution_count": 91,
      "metadata": {
        "id": "LYUI2x8MIzVp"
      },
      "outputs": [],
      "source": [
        "def convolutional_block(X, f, filters,s=2):\n",
        "   \n",
        "    \n",
        "    F1, F2, F3 = filters\n",
        "\n",
        "    X_shortcut = X\n",
        "\n",
        "    X = Conv2D(filters=F1, kernel_size=(1, 1), strides=(s, s), padding='valid')(X)\n",
        "    X = BatchNormalization(axis=3)(X)\n",
        "    X = Activation('relu')(X)\n",
        "\n",
        "    X = Conv2D(filters=F2, kernel_size=(f, f), strides=(1, 1), padding='same')(X)\n",
        "    X = BatchNormalization(axis=3)(X)\n",
        "    X = Activation('relu')(X)\n",
        "\n",
        "    X = Conv2D(filters=F3, kernel_size=(1, 1), strides=(1, 1), padding='valid')(X)\n",
        "    X = BatchNormalization(axis=3)(X)\n",
        "\n",
        "    X_shortcut = Conv2D(filters=F3, kernel_size=(1, 1), strides=(s, s), padding='valid')(X_shortcut)\n",
        "    X_shortcut = BatchNormalization(axis=3)(X_shortcut)\n",
        "\n",
        "    X = Add()([X, X_shortcut])\n",
        "    X = Activation('relu')(X)\n",
        "\n",
        "    return X"
      ]
    },
    {
      "cell_type": "code",
      "execution_count": 92,
      "metadata": {
        "id": "xpzawDtlIzZF"
      },
      "outputs": [],
      "source": [
        "def ResNet50(input_shape=(32, 32, 3),classes = 10):\n",
        "\n",
        "    X_input = Input(input_shape)\n",
        "\n",
        "    X = ZeroPadding2D((3, 3))(X_input)\n",
        "\n",
        "    X = Conv2D(32, (7, 7), strides=(2, 2))(X)\n",
        "    X = BatchNormalization(axis=3)(X)\n",
        "    X = Activation('relu')(X)\n",
        "    X = MaxPooling2D((3, 3), strides=(2, 2))(X)\n",
        "\n",
        "    X = convolutional_block(X, f=3, filters=[64, 64, 256], s=1)\n",
        "    X = identity_block(X, 3, [64, 64, 256])\n",
        "    X = identity_block(X, 3, [64, 64, 256])\n",
        "    \n",
        "\n",
        "\n",
        "    X = convolutional_block(X, f=3, filters=[128, 128, 512], s=2)\n",
        "    X = identity_block(X, 3, [128, 128, 512])\n",
        "    X = identity_block(X, 3, [128, 128, 512])\n",
        "    \n",
        "\n",
        "    X = convolutional_block(X, f=3, filters=[256, 256, 1024], s=2)\n",
        "    X = identity_block(X, 3, [256, 256, 1024])\n",
        "    X = identity_block(X, 3, [256, 256, 1024])\n",
        "    X = identity_block(X, 3, [256, 256, 1024])\n",
        "    X = identity_block(X, 3, [256, 256, 1024])\n",
        "    X = identity_block(X, 3, [256, 256, 1024])\n",
        "    \n",
        "\n",
        "    X = X = convolutional_block(X, f=3, filters=[512, 512, 2048], s=2)\n",
        "    X = identity_block(X, 3, [512, 512, 2048])\n",
        "    \n",
        "   \n",
        "\n",
        "    X = AveragePooling2D(pool_size=(2, 2), padding='same')(X)\n",
        "\n",
        "    X = Flatten()(X)\n",
        "    X = Dense(classes, activation='softmax',name='fc' +str(classes), kernel_initializer = glorot_uniform(seed=0))(X)\n",
        "    \n",
        "    model = Model(inputs=X_input, outputs=X, name='ResNet50')\n",
        "\n",
        "    return model"
      ]
    },
    {
      "cell_type": "code",
      "execution_count": 93,
      "metadata": {
        "id": "asq1SfUOIzb8"
      },
      "outputs": [],
      "source": [
        "model = ResNet50(input_shape = (32,32,3),classes=10)\n"
      ]
    },
    {
      "cell_type": "code",
      "source": [
        "learning_rate = tf.keras.optimizers.Adam(learning_rate=0.01)"
      ],
      "metadata": {
        "id": "8fZ9iovsDGLs"
      },
      "execution_count": 94,
      "outputs": []
    },
    {
      "cell_type": "code",
      "execution_count": 95,
      "metadata": {
        "id": "0onuojw6IzfG"
      },
      "outputs": [],
      "source": [
        "h = model.compile(optimizer='adam',\n",
        "              loss='categorical_crossentropy',\n",
        "              metrics=['accuracy'])"
      ]
    },
    {
      "cell_type": "code",
      "execution_count": 96,
      "metadata": {
        "id": "7U45DKs-Izhz"
      },
      "outputs": [],
      "source": [
        "#historyList = []\n",
        "#for i in range(5):\n",
        "#h = model.fit(X_train, y_train, validation_data = (X_test,y_test),batch_size=64,epochs=50)\n",
        "#historyList.append(h)\n"
      ]
    },
    {
      "cell_type": "code",
      "source": [
        "from keras.callbacks import EarlyStopping\n",
        "es = EarlyStopping(monitor='val_loss', mode='min', verbose=1, patience=3)"
      ],
      "metadata": {
        "id": "gtEH3jEGcDlT"
      },
      "execution_count": 97,
      "outputs": []
    },
    {
      "cell_type": "code",
      "source": [
        "h = model.summary()"
      ],
      "metadata": {
        "colab": {
          "base_uri": "https://localhost:8080/"
        },
        "id": "-pW6XKqvRAiV",
        "outputId": "720ffb87-2764-4b3f-b48c-249c64e33164"
      },
      "execution_count": 98,
      "outputs": [
        {
          "output_type": "stream",
          "name": "stdout",
          "text": [
            "Model: \"ResNet50\"\n",
            "__________________________________________________________________________________________________\n",
            " Layer (type)                   Output Shape         Param #     Connected to                     \n",
            "==================================================================================================\n",
            " input_4 (InputLayer)           [(None, 32, 32, 3)]  0           []                               \n",
            "                                                                                                  \n",
            " zero_padding2d_3 (ZeroPadding2  (None, 38, 38, 3)   0           ['input_4[0][0]']                \n",
            " D)                                                                                               \n",
            "                                                                                                  \n",
            " conv2d_255 (Conv2D)            (None, 16, 16, 32)   4736        ['zero_padding2d_3[0][0]']       \n",
            "                                                                                                  \n",
            " batch_normalization_255 (Batch  (None, 16, 16, 32)  128         ['conv2d_255[0][0]']             \n",
            " Normalization)                                                                                   \n",
            "                                                                                                  \n",
            " activation_243 (Activation)    (None, 16, 16, 32)   0           ['batch_normalization_255[0][0]']\n",
            "                                                                                                  \n",
            " max_pooling2d_3 (MaxPooling2D)  (None, 7, 7, 32)    0           ['activation_243[0][0]']         \n",
            "                                                                                                  \n",
            " conv2d_256 (Conv2D)            (None, 7, 7, 64)     2112        ['max_pooling2d_3[0][0]']        \n",
            "                                                                                                  \n",
            " batch_normalization_256 (Batch  (None, 7, 7, 64)    256         ['conv2d_256[0][0]']             \n",
            " Normalization)                                                                                   \n",
            "                                                                                                  \n",
            " activation_244 (Activation)    (None, 7, 7, 64)     0           ['batch_normalization_256[0][0]']\n",
            "                                                                                                  \n",
            " conv2d_257 (Conv2D)            (None, 7, 7, 64)     36928       ['activation_244[0][0]']         \n",
            "                                                                                                  \n",
            " batch_normalization_257 (Batch  (None, 7, 7, 64)    256         ['conv2d_257[0][0]']             \n",
            " Normalization)                                                                                   \n",
            "                                                                                                  \n",
            " activation_245 (Activation)    (None, 7, 7, 64)     0           ['batch_normalization_257[0][0]']\n",
            "                                                                                                  \n",
            " conv2d_258 (Conv2D)            (None, 7, 7, 256)    16640       ['activation_245[0][0]']         \n",
            "                                                                                                  \n",
            " conv2d_259 (Conv2D)            (None, 7, 7, 256)    8448        ['max_pooling2d_3[0][0]']        \n",
            "                                                                                                  \n",
            " batch_normalization_258 (Batch  (None, 7, 7, 256)   1024        ['conv2d_258[0][0]']             \n",
            " Normalization)                                                                                   \n",
            "                                                                                                  \n",
            " batch_normalization_259 (Batch  (None, 7, 7, 256)   1024        ['conv2d_259[0][0]']             \n",
            " Normalization)                                                                                   \n",
            "                                                                                                  \n",
            " add_80 (Add)                   (None, 7, 7, 256)    0           ['batch_normalization_258[0][0]',\n",
            "                                                                  'batch_normalization_259[0][0]']\n",
            "                                                                                                  \n",
            " activation_246 (Activation)    (None, 7, 7, 256)    0           ['add_80[0][0]']                 \n",
            "                                                                                                  \n",
            " conv2d_260 (Conv2D)            (None, 7, 7, 64)     16448       ['activation_246[0][0]']         \n",
            "                                                                                                  \n",
            " batch_normalization_260 (Batch  (None, 7, 7, 64)    256         ['conv2d_260[0][0]']             \n",
            " Normalization)                                                                                   \n",
            "                                                                                                  \n",
            " activation_247 (Activation)    (None, 7, 7, 64)     0           ['batch_normalization_260[0][0]']\n",
            "                                                                                                  \n",
            " conv2d_261 (Conv2D)            (None, 7, 7, 64)     36928       ['activation_247[0][0]']         \n",
            "                                                                                                  \n",
            " batch_normalization_261 (Batch  (None, 7, 7, 64)    256         ['conv2d_261[0][0]']             \n",
            " Normalization)                                                                                   \n",
            "                                                                                                  \n",
            " activation_248 (Activation)    (None, 7, 7, 64)     0           ['batch_normalization_261[0][0]']\n",
            "                                                                                                  \n",
            " conv2d_262 (Conv2D)            (None, 7, 7, 256)    16640       ['activation_248[0][0]']         \n",
            "                                                                                                  \n",
            " batch_normalization_262 (Batch  (None, 7, 7, 256)   1024        ['conv2d_262[0][0]']             \n",
            " Normalization)                                                                                   \n",
            "                                                                                                  \n",
            " add_81 (Add)                   (None, 7, 7, 256)    0           ['batch_normalization_262[0][0]',\n",
            "                                                                  'activation_246[0][0]']         \n",
            "                                                                                                  \n",
            " activation_249 (Activation)    (None, 7, 7, 256)    0           ['add_81[0][0]']                 \n",
            "                                                                                                  \n",
            " conv2d_263 (Conv2D)            (None, 7, 7, 64)     16448       ['activation_249[0][0]']         \n",
            "                                                                                                  \n",
            " batch_normalization_263 (Batch  (None, 7, 7, 64)    256         ['conv2d_263[0][0]']             \n",
            " Normalization)                                                                                   \n",
            "                                                                                                  \n",
            " activation_250 (Activation)    (None, 7, 7, 64)     0           ['batch_normalization_263[0][0]']\n",
            "                                                                                                  \n",
            " conv2d_264 (Conv2D)            (None, 7, 7, 64)     36928       ['activation_250[0][0]']         \n",
            "                                                                                                  \n",
            " batch_normalization_264 (Batch  (None, 7, 7, 64)    256         ['conv2d_264[0][0]']             \n",
            " Normalization)                                                                                   \n",
            "                                                                                                  \n",
            " activation_251 (Activation)    (None, 7, 7, 64)     0           ['batch_normalization_264[0][0]']\n",
            "                                                                                                  \n",
            " conv2d_265 (Conv2D)            (None, 7, 7, 256)    16640       ['activation_251[0][0]']         \n",
            "                                                                                                  \n",
            " batch_normalization_265 (Batch  (None, 7, 7, 256)   1024        ['conv2d_265[0][0]']             \n",
            " Normalization)                                                                                   \n",
            "                                                                                                  \n",
            " add_82 (Add)                   (None, 7, 7, 256)    0           ['batch_normalization_265[0][0]',\n",
            "                                                                  'activation_249[0][0]']         \n",
            "                                                                                                  \n",
            " activation_252 (Activation)    (None, 7, 7, 256)    0           ['add_82[0][0]']                 \n",
            "                                                                                                  \n",
            " conv2d_266 (Conv2D)            (None, 4, 4, 128)    32896       ['activation_252[0][0]']         \n",
            "                                                                                                  \n",
            " batch_normalization_266 (Batch  (None, 4, 4, 128)   512         ['conv2d_266[0][0]']             \n",
            " Normalization)                                                                                   \n",
            "                                                                                                  \n",
            " activation_253 (Activation)    (None, 4, 4, 128)    0           ['batch_normalization_266[0][0]']\n",
            "                                                                                                  \n",
            " conv2d_267 (Conv2D)            (None, 4, 4, 128)    147584      ['activation_253[0][0]']         \n",
            "                                                                                                  \n",
            " batch_normalization_267 (Batch  (None, 4, 4, 128)   512         ['conv2d_267[0][0]']             \n",
            " Normalization)                                                                                   \n",
            "                                                                                                  \n",
            " activation_254 (Activation)    (None, 4, 4, 128)    0           ['batch_normalization_267[0][0]']\n",
            "                                                                                                  \n",
            " conv2d_268 (Conv2D)            (None, 4, 4, 512)    66048       ['activation_254[0][0]']         \n",
            "                                                                                                  \n",
            " conv2d_269 (Conv2D)            (None, 4, 4, 512)    131584      ['activation_252[0][0]']         \n",
            "                                                                                                  \n",
            " batch_normalization_268 (Batch  (None, 4, 4, 512)   2048        ['conv2d_268[0][0]']             \n",
            " Normalization)                                                                                   \n",
            "                                                                                                  \n",
            " batch_normalization_269 (Batch  (None, 4, 4, 512)   2048        ['conv2d_269[0][0]']             \n",
            " Normalization)                                                                                   \n",
            "                                                                                                  \n",
            " add_83 (Add)                   (None, 4, 4, 512)    0           ['batch_normalization_268[0][0]',\n",
            "                                                                  'batch_normalization_269[0][0]']\n",
            "                                                                                                  \n",
            " activation_255 (Activation)    (None, 4, 4, 512)    0           ['add_83[0][0]']                 \n",
            "                                                                                                  \n",
            " conv2d_270 (Conv2D)            (None, 4, 4, 128)    65664       ['activation_255[0][0]']         \n",
            "                                                                                                  \n",
            " batch_normalization_270 (Batch  (None, 4, 4, 128)   512         ['conv2d_270[0][0]']             \n",
            " Normalization)                                                                                   \n",
            "                                                                                                  \n",
            " activation_256 (Activation)    (None, 4, 4, 128)    0           ['batch_normalization_270[0][0]']\n",
            "                                                                                                  \n",
            " conv2d_271 (Conv2D)            (None, 4, 4, 128)    147584      ['activation_256[0][0]']         \n",
            "                                                                                                  \n",
            " batch_normalization_271 (Batch  (None, 4, 4, 128)   512         ['conv2d_271[0][0]']             \n",
            " Normalization)                                                                                   \n",
            "                                                                                                  \n",
            " activation_257 (Activation)    (None, 4, 4, 128)    0           ['batch_normalization_271[0][0]']\n",
            "                                                                                                  \n",
            " conv2d_272 (Conv2D)            (None, 4, 4, 512)    66048       ['activation_257[0][0]']         \n",
            "                                                                                                  \n",
            " batch_normalization_272 (Batch  (None, 4, 4, 512)   2048        ['conv2d_272[0][0]']             \n",
            " Normalization)                                                                                   \n",
            "                                                                                                  \n",
            " add_84 (Add)                   (None, 4, 4, 512)    0           ['batch_normalization_272[0][0]',\n",
            "                                                                  'activation_255[0][0]']         \n",
            "                                                                                                  \n",
            " activation_258 (Activation)    (None, 4, 4, 512)    0           ['add_84[0][0]']                 \n",
            "                                                                                                  \n",
            " conv2d_273 (Conv2D)            (None, 4, 4, 128)    65664       ['activation_258[0][0]']         \n",
            "                                                                                                  \n",
            " batch_normalization_273 (Batch  (None, 4, 4, 128)   512         ['conv2d_273[0][0]']             \n",
            " Normalization)                                                                                   \n",
            "                                                                                                  \n",
            " activation_259 (Activation)    (None, 4, 4, 128)    0           ['batch_normalization_273[0][0]']\n",
            "                                                                                                  \n",
            " conv2d_274 (Conv2D)            (None, 4, 4, 128)    147584      ['activation_259[0][0]']         \n",
            "                                                                                                  \n",
            " batch_normalization_274 (Batch  (None, 4, 4, 128)   512         ['conv2d_274[0][0]']             \n",
            " Normalization)                                                                                   \n",
            "                                                                                                  \n",
            " activation_260 (Activation)    (None, 4, 4, 128)    0           ['batch_normalization_274[0][0]']\n",
            "                                                                                                  \n",
            " conv2d_275 (Conv2D)            (None, 4, 4, 512)    66048       ['activation_260[0][0]']         \n",
            "                                                                                                  \n",
            " batch_normalization_275 (Batch  (None, 4, 4, 512)   2048        ['conv2d_275[0][0]']             \n",
            " Normalization)                                                                                   \n",
            "                                                                                                  \n",
            " add_85 (Add)                   (None, 4, 4, 512)    0           ['batch_normalization_275[0][0]',\n",
            "                                                                  'activation_258[0][0]']         \n",
            "                                                                                                  \n",
            " activation_261 (Activation)    (None, 4, 4, 512)    0           ['add_85[0][0]']                 \n",
            "                                                                                                  \n",
            " conv2d_276 (Conv2D)            (None, 2, 2, 256)    131328      ['activation_261[0][0]']         \n",
            "                                                                                                  \n",
            " batch_normalization_276 (Batch  (None, 2, 2, 256)   1024        ['conv2d_276[0][0]']             \n",
            " Normalization)                                                                                   \n",
            "                                                                                                  \n",
            " activation_262 (Activation)    (None, 2, 2, 256)    0           ['batch_normalization_276[0][0]']\n",
            "                                                                                                  \n",
            " conv2d_277 (Conv2D)            (None, 2, 2, 256)    590080      ['activation_262[0][0]']         \n",
            "                                                                                                  \n",
            " batch_normalization_277 (Batch  (None, 2, 2, 256)   1024        ['conv2d_277[0][0]']             \n",
            " Normalization)                                                                                   \n",
            "                                                                                                  \n",
            " activation_263 (Activation)    (None, 2, 2, 256)    0           ['batch_normalization_277[0][0]']\n",
            "                                                                                                  \n",
            " conv2d_278 (Conv2D)            (None, 2, 2, 1024)   263168      ['activation_263[0][0]']         \n",
            "                                                                                                  \n",
            " conv2d_279 (Conv2D)            (None, 2, 2, 1024)   525312      ['activation_261[0][0]']         \n",
            "                                                                                                  \n",
            " batch_normalization_278 (Batch  (None, 2, 2, 1024)  4096        ['conv2d_278[0][0]']             \n",
            " Normalization)                                                                                   \n",
            "                                                                                                  \n",
            " batch_normalization_279 (Batch  (None, 2, 2, 1024)  4096        ['conv2d_279[0][0]']             \n",
            " Normalization)                                                                                   \n",
            "                                                                                                  \n",
            " add_86 (Add)                   (None, 2, 2, 1024)   0           ['batch_normalization_278[0][0]',\n",
            "                                                                  'batch_normalization_279[0][0]']\n",
            "                                                                                                  \n",
            " activation_264 (Activation)    (None, 2, 2, 1024)   0           ['add_86[0][0]']                 \n",
            "                                                                                                  \n",
            " conv2d_280 (Conv2D)            (None, 2, 2, 256)    262400      ['activation_264[0][0]']         \n",
            "                                                                                                  \n",
            " batch_normalization_280 (Batch  (None, 2, 2, 256)   1024        ['conv2d_280[0][0]']             \n",
            " Normalization)                                                                                   \n",
            "                                                                                                  \n",
            " activation_265 (Activation)    (None, 2, 2, 256)    0           ['batch_normalization_280[0][0]']\n",
            "                                                                                                  \n",
            " conv2d_281 (Conv2D)            (None, 2, 2, 256)    590080      ['activation_265[0][0]']         \n",
            "                                                                                                  \n",
            " batch_normalization_281 (Batch  (None, 2, 2, 256)   1024        ['conv2d_281[0][0]']             \n",
            " Normalization)                                                                                   \n",
            "                                                                                                  \n",
            " activation_266 (Activation)    (None, 2, 2, 256)    0           ['batch_normalization_281[0][0]']\n",
            "                                                                                                  \n",
            " conv2d_282 (Conv2D)            (None, 2, 2, 1024)   263168      ['activation_266[0][0]']         \n",
            "                                                                                                  \n",
            " batch_normalization_282 (Batch  (None, 2, 2, 1024)  4096        ['conv2d_282[0][0]']             \n",
            " Normalization)                                                                                   \n",
            "                                                                                                  \n",
            " add_87 (Add)                   (None, 2, 2, 1024)   0           ['batch_normalization_282[0][0]',\n",
            "                                                                  'activation_264[0][0]']         \n",
            "                                                                                                  \n",
            " activation_267 (Activation)    (None, 2, 2, 1024)   0           ['add_87[0][0]']                 \n",
            "                                                                                                  \n",
            " conv2d_283 (Conv2D)            (None, 2, 2, 256)    262400      ['activation_267[0][0]']         \n",
            "                                                                                                  \n",
            " batch_normalization_283 (Batch  (None, 2, 2, 256)   1024        ['conv2d_283[0][0]']             \n",
            " Normalization)                                                                                   \n",
            "                                                                                                  \n",
            " activation_268 (Activation)    (None, 2, 2, 256)    0           ['batch_normalization_283[0][0]']\n",
            "                                                                                                  \n",
            " conv2d_284 (Conv2D)            (None, 2, 2, 256)    590080      ['activation_268[0][0]']         \n",
            "                                                                                                  \n",
            " batch_normalization_284 (Batch  (None, 2, 2, 256)   1024        ['conv2d_284[0][0]']             \n",
            " Normalization)                                                                                   \n",
            "                                                                                                  \n",
            " activation_269 (Activation)    (None, 2, 2, 256)    0           ['batch_normalization_284[0][0]']\n",
            "                                                                                                  \n",
            " conv2d_285 (Conv2D)            (None, 2, 2, 1024)   263168      ['activation_269[0][0]']         \n",
            "                                                                                                  \n",
            " batch_normalization_285 (Batch  (None, 2, 2, 1024)  4096        ['conv2d_285[0][0]']             \n",
            " Normalization)                                                                                   \n",
            "                                                                                                  \n",
            " add_88 (Add)                   (None, 2, 2, 1024)   0           ['batch_normalization_285[0][0]',\n",
            "                                                                  'activation_267[0][0]']         \n",
            "                                                                                                  \n",
            " activation_270 (Activation)    (None, 2, 2, 1024)   0           ['add_88[0][0]']                 \n",
            "                                                                                                  \n",
            " conv2d_286 (Conv2D)            (None, 2, 2, 256)    262400      ['activation_270[0][0]']         \n",
            "                                                                                                  \n",
            " batch_normalization_286 (Batch  (None, 2, 2, 256)   1024        ['conv2d_286[0][0]']             \n",
            " Normalization)                                                                                   \n",
            "                                                                                                  \n",
            " activation_271 (Activation)    (None, 2, 2, 256)    0           ['batch_normalization_286[0][0]']\n",
            "                                                                                                  \n",
            " conv2d_287 (Conv2D)            (None, 2, 2, 256)    590080      ['activation_271[0][0]']         \n",
            "                                                                                                  \n",
            " batch_normalization_287 (Batch  (None, 2, 2, 256)   1024        ['conv2d_287[0][0]']             \n",
            " Normalization)                                                                                   \n",
            "                                                                                                  \n",
            " activation_272 (Activation)    (None, 2, 2, 256)    0           ['batch_normalization_287[0][0]']\n",
            "                                                                                                  \n",
            " conv2d_288 (Conv2D)            (None, 2, 2, 1024)   263168      ['activation_272[0][0]']         \n",
            "                                                                                                  \n",
            " batch_normalization_288 (Batch  (None, 2, 2, 1024)  4096        ['conv2d_288[0][0]']             \n",
            " Normalization)                                                                                   \n",
            "                                                                                                  \n",
            " add_89 (Add)                   (None, 2, 2, 1024)   0           ['batch_normalization_288[0][0]',\n",
            "                                                                  'activation_270[0][0]']         \n",
            "                                                                                                  \n",
            " activation_273 (Activation)    (None, 2, 2, 1024)   0           ['add_89[0][0]']                 \n",
            "                                                                                                  \n",
            " conv2d_289 (Conv2D)            (None, 2, 2, 256)    262400      ['activation_273[0][0]']         \n",
            "                                                                                                  \n",
            " batch_normalization_289 (Batch  (None, 2, 2, 256)   1024        ['conv2d_289[0][0]']             \n",
            " Normalization)                                                                                   \n",
            "                                                                                                  \n",
            " activation_274 (Activation)    (None, 2, 2, 256)    0           ['batch_normalization_289[0][0]']\n",
            "                                                                                                  \n",
            " conv2d_290 (Conv2D)            (None, 2, 2, 256)    590080      ['activation_274[0][0]']         \n",
            "                                                                                                  \n",
            " batch_normalization_290 (Batch  (None, 2, 2, 256)   1024        ['conv2d_290[0][0]']             \n",
            " Normalization)                                                                                   \n",
            "                                                                                                  \n",
            " activation_275 (Activation)    (None, 2, 2, 256)    0           ['batch_normalization_290[0][0]']\n",
            "                                                                                                  \n",
            " conv2d_291 (Conv2D)            (None, 2, 2, 1024)   263168      ['activation_275[0][0]']         \n",
            "                                                                                                  \n",
            " batch_normalization_291 (Batch  (None, 2, 2, 1024)  4096        ['conv2d_291[0][0]']             \n",
            " Normalization)                                                                                   \n",
            "                                                                                                  \n",
            " add_90 (Add)                   (None, 2, 2, 1024)   0           ['batch_normalization_291[0][0]',\n",
            "                                                                  'activation_273[0][0]']         \n",
            "                                                                                                  \n",
            " activation_276 (Activation)    (None, 2, 2, 1024)   0           ['add_90[0][0]']                 \n",
            "                                                                                                  \n",
            " conv2d_292 (Conv2D)            (None, 2, 2, 256)    262400      ['activation_276[0][0]']         \n",
            "                                                                                                  \n",
            " batch_normalization_292 (Batch  (None, 2, 2, 256)   1024        ['conv2d_292[0][0]']             \n",
            " Normalization)                                                                                   \n",
            "                                                                                                  \n",
            " activation_277 (Activation)    (None, 2, 2, 256)    0           ['batch_normalization_292[0][0]']\n",
            "                                                                                                  \n",
            " conv2d_293 (Conv2D)            (None, 2, 2, 256)    590080      ['activation_277[0][0]']         \n",
            "                                                                                                  \n",
            " batch_normalization_293 (Batch  (None, 2, 2, 256)   1024        ['conv2d_293[0][0]']             \n",
            " Normalization)                                                                                   \n",
            "                                                                                                  \n",
            " activation_278 (Activation)    (None, 2, 2, 256)    0           ['batch_normalization_293[0][0]']\n",
            "                                                                                                  \n",
            " conv2d_294 (Conv2D)            (None, 2, 2, 1024)   263168      ['activation_278[0][0]']         \n",
            "                                                                                                  \n",
            " batch_normalization_294 (Batch  (None, 2, 2, 1024)  4096        ['conv2d_294[0][0]']             \n",
            " Normalization)                                                                                   \n",
            "                                                                                                  \n",
            " add_91 (Add)                   (None, 2, 2, 1024)   0           ['batch_normalization_294[0][0]',\n",
            "                                                                  'activation_276[0][0]']         \n",
            "                                                                                                  \n",
            " activation_279 (Activation)    (None, 2, 2, 1024)   0           ['add_91[0][0]']                 \n",
            "                                                                                                  \n",
            " conv2d_295 (Conv2D)            (None, 1, 1, 512)    524800      ['activation_279[0][0]']         \n",
            "                                                                                                  \n",
            " batch_normalization_295 (Batch  (None, 1, 1, 512)   2048        ['conv2d_295[0][0]']             \n",
            " Normalization)                                                                                   \n",
            "                                                                                                  \n",
            " activation_280 (Activation)    (None, 1, 1, 512)    0           ['batch_normalization_295[0][0]']\n",
            "                                                                                                  \n",
            " conv2d_296 (Conv2D)            (None, 1, 1, 512)    2359808     ['activation_280[0][0]']         \n",
            "                                                                                                  \n",
            " batch_normalization_296 (Batch  (None, 1, 1, 512)   2048        ['conv2d_296[0][0]']             \n",
            " Normalization)                                                                                   \n",
            "                                                                                                  \n",
            " activation_281 (Activation)    (None, 1, 1, 512)    0           ['batch_normalization_296[0][0]']\n",
            "                                                                                                  \n",
            " conv2d_297 (Conv2D)            (None, 1, 1, 2048)   1050624     ['activation_281[0][0]']         \n",
            "                                                                                                  \n",
            " conv2d_298 (Conv2D)            (None, 1, 1, 2048)   2099200     ['activation_279[0][0]']         \n",
            "                                                                                                  \n",
            " batch_normalization_297 (Batch  (None, 1, 1, 2048)  8192        ['conv2d_297[0][0]']             \n",
            " Normalization)                                                                                   \n",
            "                                                                                                  \n",
            " batch_normalization_298 (Batch  (None, 1, 1, 2048)  8192        ['conv2d_298[0][0]']             \n",
            " Normalization)                                                                                   \n",
            "                                                                                                  \n",
            " add_92 (Add)                   (None, 1, 1, 2048)   0           ['batch_normalization_297[0][0]',\n",
            "                                                                  'batch_normalization_298[0][0]']\n",
            "                                                                                                  \n",
            " activation_282 (Activation)    (None, 1, 1, 2048)   0           ['add_92[0][0]']                 \n",
            "                                                                                                  \n",
            " conv2d_299 (Conv2D)            (None, 1, 1, 512)    1049088     ['activation_282[0][0]']         \n",
            "                                                                                                  \n",
            " batch_normalization_299 (Batch  (None, 1, 1, 512)   2048        ['conv2d_299[0][0]']             \n",
            " Normalization)                                                                                   \n",
            "                                                                                                  \n",
            " activation_283 (Activation)    (None, 1, 1, 512)    0           ['batch_normalization_299[0][0]']\n",
            "                                                                                                  \n",
            " conv2d_300 (Conv2D)            (None, 1, 1, 512)    2359808     ['activation_283[0][0]']         \n",
            "                                                                                                  \n",
            " batch_normalization_300 (Batch  (None, 1, 1, 512)   2048        ['conv2d_300[0][0]']             \n",
            " Normalization)                                                                                   \n",
            "                                                                                                  \n",
            " activation_284 (Activation)    (None, 1, 1, 512)    0           ['batch_normalization_300[0][0]']\n",
            "                                                                                                  \n",
            " conv2d_301 (Conv2D)            (None, 1, 1, 2048)   1050624     ['activation_284[0][0]']         \n",
            "                                                                                                  \n",
            " batch_normalization_301 (Batch  (None, 1, 1, 2048)  8192        ['conv2d_301[0][0]']             \n",
            " Normalization)                                                                                   \n",
            "                                                                                                  \n",
            " add_93 (Add)                   (None, 1, 1, 2048)   0           ['batch_normalization_301[0][0]',\n",
            "                                                                  'activation_282[0][0]']         \n",
            "                                                                                                  \n",
            " activation_285 (Activation)    (None, 1, 1, 2048)   0           ['add_93[0][0]']                 \n",
            "                                                                                                  \n",
            " average_pooling2d_3 (AveragePo  (None, 1, 1, 2048)  0           ['activation_285[0][0]']         \n",
            " oling2D)                                                                                         \n",
            "                                                                                                  \n",
            " flatten_3 (Flatten)            (None, 2048)         0           ['average_pooling2d_3[0][0]']    \n",
            "                                                                                                  \n",
            " fc10 (Dense)                   (None, 10)           20490       ['flatten_3[0][0]']              \n",
            "                                                                                                  \n",
            "==================================================================================================\n",
            "Total params: 18,838,922\n",
            "Trainable params: 18,793,546\n",
            "Non-trainable params: 45,376\n",
            "__________________________________________________________________________________________________\n"
          ]
        }
      ]
    },
    {
      "cell_type": "code",
      "source": [
        "h = model.fit(X_train, y_train, validation_data = (X_test,y_test),batch_size=32,epochs=50, callbacks=[es])"
      ],
      "metadata": {
        "colab": {
          "base_uri": "https://localhost:8080/"
        },
        "id": "Nj5LXAZpRFIn",
        "outputId": "529b710b-a8c6-402d-e208-1111053f633d"
      },
      "execution_count": 99,
      "outputs": [
        {
          "output_type": "stream",
          "name": "stdout",
          "text": [
            "Epoch 1/50\n",
            "1563/1563 [==============================] - 60s 35ms/step - loss: 2.1319 - accuracy: 0.3239 - val_loss: 2.5293 - val_accuracy: 0.2124\n",
            "Epoch 2/50\n",
            "1563/1563 [==============================] - 55s 35ms/step - loss: 2.1997 - accuracy: 0.2940 - val_loss: 1.9750 - val_accuracy: 0.3021\n",
            "Epoch 3/50\n",
            "1563/1563 [==============================] - 56s 36ms/step - loss: 1.9834 - accuracy: 0.3416 - val_loss: 1.7035 - val_accuracy: 0.3805\n",
            "Epoch 4/50\n",
            "1563/1563 [==============================] - 56s 36ms/step - loss: 1.9079 - accuracy: 0.3655 - val_loss: 3.2900 - val_accuracy: 0.2653\n",
            "Epoch 5/50\n",
            "1563/1563 [==============================] - 54s 35ms/step - loss: 1.8219 - accuracy: 0.3835 - val_loss: 1.5764 - val_accuracy: 0.4228\n",
            "Epoch 6/50\n",
            "1563/1563 [==============================] - 56s 36ms/step - loss: 1.6512 - accuracy: 0.4186 - val_loss: 3.8287 - val_accuracy: 0.3953\n",
            "Epoch 7/50\n",
            "1563/1563 [==============================] - 54s 34ms/step - loss: 1.5530 - accuracy: 0.4559 - val_loss: 2.3077 - val_accuracy: 0.4418\n",
            "Epoch 8/50\n",
            "1563/1563 [==============================] - 55s 35ms/step - loss: 1.4829 - accuracy: 0.4774 - val_loss: 1.5006 - val_accuracy: 0.4779\n",
            "Epoch 9/50\n",
            "1563/1563 [==============================] - 54s 35ms/step - loss: 1.3133 - accuracy: 0.5339 - val_loss: 1.3249 - val_accuracy: 0.5378\n",
            "Epoch 10/50\n",
            "1563/1563 [==============================] - 54s 35ms/step - loss: 1.1843 - accuracy: 0.5807 - val_loss: 1.2816 - val_accuracy: 0.5353\n",
            "Epoch 11/50\n",
            "1563/1563 [==============================] - 57s 36ms/step - loss: 1.0827 - accuracy: 0.6200 - val_loss: 1.1280 - val_accuracy: 0.5956\n",
            "Epoch 12/50\n",
            "1563/1563 [==============================] - 56s 36ms/step - loss: 0.9662 - accuracy: 0.6624 - val_loss: 1.0605 - val_accuracy: 0.6257\n",
            "Epoch 13/50\n",
            "1563/1563 [==============================] - 54s 35ms/step - loss: 0.9333 - accuracy: 0.6773 - val_loss: 1.0341 - val_accuracy: 0.6370\n",
            "Epoch 14/50\n",
            "1563/1563 [==============================] - 56s 36ms/step - loss: 0.8287 - accuracy: 0.7066 - val_loss: 1.0480 - val_accuracy: 0.6445\n",
            "Epoch 15/50\n",
            "1563/1563 [==============================] - 55s 35ms/step - loss: 0.7386 - accuracy: 0.7436 - val_loss: 0.8807 - val_accuracy: 0.6954\n",
            "Epoch 16/50\n",
            "1563/1563 [==============================] - 56s 36ms/step - loss: 0.6925 - accuracy: 0.7584 - val_loss: 0.9872 - val_accuracy: 0.6706\n",
            "Epoch 17/50\n",
            "1563/1563 [==============================] - 54s 35ms/step - loss: 0.6398 - accuracy: 0.7772 - val_loss: 0.8997 - val_accuracy: 0.7015\n",
            "Epoch 18/50\n",
            "1563/1563 [==============================] - 56s 36ms/step - loss: 0.5542 - accuracy: 0.8049 - val_loss: 0.8479 - val_accuracy: 0.7166\n",
            "Epoch 19/50\n",
            "1563/1563 [==============================] - 54s 35ms/step - loss: 0.5186 - accuracy: 0.8186 - val_loss: 1.0187 - val_accuracy: 0.6698\n",
            "Epoch 20/50\n",
            "1563/1563 [==============================] - 54s 35ms/step - loss: 0.4844 - accuracy: 0.8298 - val_loss: 1.1283 - val_accuracy: 0.6939\n",
            "Epoch 21/50\n",
            "1563/1563 [==============================] - 54s 35ms/step - loss: 0.4034 - accuracy: 0.8576 - val_loss: 0.9321 - val_accuracy: 0.7177\n",
            "Epoch 21: early stopping\n"
          ]
        }
      ]
    },
    {
      "cell_type": "code",
      "source": [
        "print(h.history.keys())\n",
        "h.history"
      ],
      "metadata": {
        "colab": {
          "base_uri": "https://localhost:8080/"
        },
        "id": "yCh0441SRSJW",
        "outputId": "76526d9f-f657-4419-883b-f0dea12d52d3"
      },
      "execution_count": 100,
      "outputs": [
        {
          "output_type": "stream",
          "name": "stdout",
          "text": [
            "dict_keys(['loss', 'accuracy', 'val_loss', 'val_accuracy'])\n"
          ]
        },
        {
          "output_type": "execute_result",
          "data": {
            "text/plain": [
              "{'loss': [2.131887197494507,\n",
              "  2.1997482776641846,\n",
              "  1.9834352731704712,\n",
              "  1.90789794921875,\n",
              "  1.8219268321990967,\n",
              "  1.651206612586975,\n",
              "  1.5529958009719849,\n",
              "  1.482944369316101,\n",
              "  1.3132507801055908,\n",
              "  1.1842752695083618,\n",
              "  1.0826704502105713,\n",
              "  0.9661882519721985,\n",
              "  0.9332500100135803,\n",
              "  0.8286525011062622,\n",
              "  0.7385528087615967,\n",
              "  0.6925458312034607,\n",
              "  0.6398199796676636,\n",
              "  0.5542300343513489,\n",
              "  0.5185856819152832,\n",
              "  0.48436346650123596,\n",
              "  0.4033762216567993],\n",
              " 'accuracy': [0.32387998700141907,\n",
              "  0.2939999997615814,\n",
              "  0.34163999557495117,\n",
              "  0.3654800057411194,\n",
              "  0.38345998525619507,\n",
              "  0.4185999929904938,\n",
              "  0.4558599889278412,\n",
              "  0.4774399995803833,\n",
              "  0.5339000225067139,\n",
              "  0.5806999802589417,\n",
              "  0.6200000047683716,\n",
              "  0.6624000072479248,\n",
              "  0.677299976348877,\n",
              "  0.7065799832344055,\n",
              "  0.743619978427887,\n",
              "  0.7584400177001953,\n",
              "  0.7771599888801575,\n",
              "  0.8049399852752686,\n",
              "  0.8185799717903137,\n",
              "  0.8298199772834778,\n",
              "  0.8575800061225891],\n",
              " 'val_loss': [2.5292603969573975,\n",
              "  1.974989891052246,\n",
              "  1.7035033702850342,\n",
              "  3.290004253387451,\n",
              "  1.5764377117156982,\n",
              "  3.828714370727539,\n",
              "  2.3077268600463867,\n",
              "  1.5005521774291992,\n",
              "  1.3248958587646484,\n",
              "  1.2815686464309692,\n",
              "  1.1279877424240112,\n",
              "  1.060490608215332,\n",
              "  1.0340585708618164,\n",
              "  1.047986626625061,\n",
              "  0.8806936740875244,\n",
              "  0.9871653318405151,\n",
              "  0.8996595740318298,\n",
              "  0.8479399681091309,\n",
              "  1.0187339782714844,\n",
              "  1.1283491849899292,\n",
              "  0.9320551753044128],\n",
              " 'val_accuracy': [0.21240000426769257,\n",
              "  0.3021000027656555,\n",
              "  0.3804999887943268,\n",
              "  0.2653000056743622,\n",
              "  0.4228000044822693,\n",
              "  0.3953000009059906,\n",
              "  0.44179999828338623,\n",
              "  0.4778999984264374,\n",
              "  0.5378000140190125,\n",
              "  0.5353000164031982,\n",
              "  0.5956000089645386,\n",
              "  0.6256999969482422,\n",
              "  0.6370000243186951,\n",
              "  0.6445000171661377,\n",
              "  0.6953999996185303,\n",
              "  0.6705999970436096,\n",
              "  0.7014999985694885,\n",
              "  0.7166000008583069,\n",
              "  0.6697999835014343,\n",
              "  0.6938999891281128,\n",
              "  0.7177000045776367]}"
            ]
          },
          "metadata": {},
          "execution_count": 100
        }
      ]
    },
    {
      "cell_type": "code",
      "source": [
        "plt.plot(h.history['loss'])\n",
        "plt.plot(h.history['val_loss'])\n",
        "plt.grid()\n",
        "plt.xlabel('Epochs')\n",
        "plt.ylabel('Training loss')"
      ],
      "metadata": {
        "colab": {
          "base_uri": "https://localhost:8080/",
          "height": 296
        },
        "id": "12EVWIdoRKbP",
        "outputId": "f50d8f88-4878-4734-c883-bf6ad477e99a"
      },
      "execution_count": 101,
      "outputs": [
        {
          "output_type": "execute_result",
          "data": {
            "text/plain": [
              "Text(0, 0.5, 'Training loss')"
            ]
          },
          "metadata": {},
          "execution_count": 101
        },
        {
          "output_type": "display_data",
          "data": {
            "text/plain": [
              "<Figure size 432x288 with 1 Axes>"
            ],
            "image/png": "[encoded data removed]"
          },
          "metadata": {
            "needs_background": "light"
          }
        }
      ]
    },
    {
      "cell_type": "code",
      "source": [
        "plt.plot(h.history['accuracy'])\n",
        "plt.plot(h.history['val_accuracy'])\n",
        "plt.grid()\n",
        "plt.xlabel('Epochs')\n",
        "plt.ylabel('Training Accuracy')"
      ],
      "metadata": {
        "colab": {
          "base_uri": "https://localhost:8080/",
          "height": 296
        },
        "id": "3gsmK_rARKsW",
        "outputId": "f55b0eda-5f9b-4a83-817a-5f03c332cf35"
      },
      "execution_count": 102,
      "outputs": [
        {
          "output_type": "execute_result",
          "data": {
            "text/plain": [
              "Text(0, 0.5, 'Training Accuracy')"
            ]
          },
          "metadata": {},
          "execution_count": 102
        },
        {
          "output_type": "display_data",
          "data": {
            "text/plain": [
              "<Figure size 432x288 with 1 Axes>"
            ],
            "image/png": "[encoded data removed]"
          },
          "metadata": {
            "needs_background": "light"
          }
        }
      ]
    },
    {
      "cell_type": "code",
      "source": [
        "scores = model.evaluate(X_test,y_test)"
      ],
      "metadata": {
        "colab": {
          "base_uri": "https://localhost:8080/"
        },
        "id": "tb3CPEGjRK5u",
        "outputId": "e8d6a0d0-adc1-4c27-b53b-9a007a409b0b"
      },
      "execution_count": 103,
      "outputs": [
        {
          "output_type": "stream",
          "name": "stdout",
          "text": [
            "313/313 [==============================] - 4s 12ms/step - loss: 0.9321 - accuracy: 0.7177\n"
          ]
        }
      ]
    },
    {
      "cell_type": "code",
      "source": [
        "y_pred=model.predict(X_test) \n",
        "y_pred=np.argmax(y_pred, axis=1)\n",
        "y_test=np.argmax(y_test, axis=1)\n",
        "cm = confusion_matrix(y_test, y_pred)\n",
        "print(cm)"
      ],
      "metadata": {
        "colab": {
          "base_uri": "https://localhost:8080/"
        },
        "id": "FV_wF9QZAyIT",
        "outputId": "e7c4c18a-60a2-4c5e-f3b5-9b31c39f5e03"
      },
      "execution_count": 104,
      "outputs": [
        {
          "output_type": "stream",
          "name": "stdout",
          "text": [
            "313/313 [==============================] - 4s 10ms/step\n",
            "[[863  12  21  23   2   2   9   5  47  16]\n",
            " [ 35 820   8  14   0   6  20   2  26  69]\n",
            " [ 96   5 600 107  44  66  36  27  11   8]\n",
            " [ 33  11  42 661  28 123  61  25   9   7]\n",
            " [ 39   4  90 133 493  57 106  67   9   2]\n",
            " [ 16   5  26 248  19 607  29  44   4   2]\n",
            " [ 12   3  48  95   4  19 811   2   4   2]\n",
            " [ 26   9  26  56  34  78   9 744   3  15]\n",
            " [ 76  36  12  15   1   6   7   4 826  17]\n",
            " [ 57  83  12  31   0   3  28  10  24 752]]\n"
          ]
        }
      ]
    },
    {
      "cell_type": "code",
      "source": [
        "ipredsLabel = model.predict(X_test)\n",
        "#classes_p = np.argmax(ipredsLabel,axis=1)\n",
        "#ipredsLabel[:5]\n",
        "\n"
      ],
      "metadata": {
        "colab": {
          "base_uri": "https://localhost:8080/"
        },
        "id": "6ff-depASGH0",
        "outputId": "42a1862b-bfa8-4ddb-cb50-2e880572388c"
      },
      "execution_count": 105,
      "outputs": [
        {
          "output_type": "stream",
          "name": "stdout",
          "text": [
            "313/313 [==============================] - 3s 10ms/step\n"
          ]
        }
      ]
    },
    {
      "cell_type": "code",
      "source": [
        "import seaborn as sn\n",
        "confus_matrix = tf.math.confusion_matrix(labels=y_pred,predictions=y_test)\n",
        "\n",
        "sn.heatmap(confus_matrix, annot=True, cmap='RdYlGn', fmt='d')\n",
        "plt.xlabel('predicted')\n",
        "plt.ylabel('Truth')"
      ],
      "metadata": {
        "colab": {
          "base_uri": "https://localhost:8080/",
          "height": 296
        },
        "id": "c9gCKJ4uU4WP",
        "outputId": "e657fc64-a708-4c43-88de-38bbd352f807"
      },
      "execution_count": 106,
      "outputs": [
        {
          "output_type": "execute_result",
          "data": {
            "text/plain": [
              "Text(33.0, 0.5, 'Truth')"
            ]
          },
          "metadata": {},
          "execution_count": 106
        },
        {
          "output_type": "display_data",
          "data": {
            "text/plain": [
              "<Figure size 432x288 with 2 Axes>"
            ],
            "image/png": "[encoded data removed]"
          },
          "metadata": {
            "needs_background": "light"
          }
        }
      ]
    },
    {
      "cell_type": "code",
      "source": [],
      "metadata": {
        "id": "4XVhQx6pUkI7"
      },
      "execution_count": 106,
      "outputs": []
    }
  ],
  "metadata": {
    "accelerator": "GPU",
    "colab": {
      "provenance": [],
      "collapsed_sections": [],
      "authorship_tag": "ABX9TyPUUu4oF3yJtEMxSP/hxLkb",
      "include_colab_link": true
    },
    "gpuClass": "standard",
    "kernelspec": {
      "display_name": "Python 3",
      "name": "python3"
    },
    "language_info": {
      "name": "python"
    }
  },
  "nbformat": 4,
  "nbformat_minor": 0
}